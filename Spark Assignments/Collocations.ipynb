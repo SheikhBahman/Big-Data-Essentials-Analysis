{
 "cells": [
  {
   "cell_type": "markdown",
   "metadata": {},
   "source": [
    "# Spark assignment 2: Collocations\n",
    "As for the second part of the assignment, your task is to extract collocations: that is word combinations that occur together. For example, “high school” or “roman empire”.\n",
    "\n",
    "To find collocations, you will use NPMI (normalized pointwise mutual information) metric.\n",
    "\n",
    "PMI of two words, a & b, is defined as “PMI(a, b) = ln (P(ab) / (P(a) * P(b))”, where P(ab) is the probability of two words coming one after the other, and P(a) and P(b) are probabilities of words a & b respectively.\n",
    "\n",
    "You will estimate probabilities with occurrence counts, that is “P(a) = # of occurrences of word a / total number of words”, and “P(ab) = # of occurrences of words ‘a b’ / total number of word pairs”.\n",
    "\n",
    "To build an intuition behind the definition, see Reading material.\n",
    "\n",
    "Therefore, rare combinations of coupled words have large PMI.\n",
    "\n",
    "NPMI is computed as “NPMI(a, b) = PMI(a, b) / -ln P(ab)”. This normalizes the quantity to be within the range [-1; 1].\n",
    "\n",
    "You task is a bit more complicated now:\n",
    "\n",
    "* Extract all the words, as in the previous task.\n",
    "* Filter out stopwords using the dictionary (/datasets/stop_words_en.txt ) (do not forget to convert words to the lowercase!)\n",
    "* Compute all bigrams (that is, pairs of consequent words)\n",
    "* Leave only bigrams with at least 500 occurrences\n",
    "* Compute NPMI for every bigram (note: when computing probabilities, you need unpruned counts!)\n",
    "* Sort word pairs by NPMI in the descending order\n",
    "* Print top 39 word pairs, with words delimited by the underscore “_”\n",
    "                                                        \n",
    "For example,\n",
    "\n",
    "roman_empire\n",
    "                                                        \n",
    "south_africa\n",
    "\n",
    "Dataset location: /data/wiki/en_articles_part\n",
    "\n",
    "The part of the result on the sample dataset:\n",
    "\n",
    "...\n",
    "\n",
    "references_reading\n",
    "\n",
    "notes_references\n",
    "\n",
    "award_best\n",
    "\n",
    "north_america\n",
    "\n",
    "new_zealand\n",
    "\n",
    "...\n",
    "                                                        \n",
    "                                                        \n",
    "If you want to deploy the environment on your own machine, please use https://hub.docker.com/r/bigdatateam/all-spark Docker container.                                                        "
   ]
  },
  {
   "cell_type": "code",
   "execution_count": null,
   "metadata": {},
   "outputs": [],
   "source": [
    "minOccurrences = 500\n",
    "stopWordsAddress = \"/datasets/stop_words_en.txt\"\n",
    "wikiArticlesAddress = \"/data/wiki/en_articles_part/articles-part\"\n",
    "\n",
    "import re\n",
    "import math\n",
    "\n",
    "from pyspark import SparkConf, SparkContext\n",
    "\n",
    "try:\n",
    "    sc = SparkContext(conf=SparkConf().setAppName(\"MyApp\").setMaster(\"local\").set(\"spark.cores.max\", \"16\"))\n",
    "except:\n",
    "    pass"
   ]
  },
  {
   "cell_type": "code",
   "execution_count": 2,
   "metadata": {},
   "outputs": [],
   "source": [
    "def readStopWords(fileAddress):\n",
    "    with open(fileAddress) as f:\n",
    "        return f.read().splitlines()    \n",
    "stopWords = readStopWords(stopWordsAddress)\n",
    "stopWords = sc.broadcast(stopWords)"
   ]
  },
  {
   "cell_type": "code",
   "execution_count": 3,
   "metadata": {},
   "outputs": [],
   "source": [
    "def parse_article(line):\n",
    "    try:\n",
    "        article_id, text = line.rstrip().split('\\t', 1)\n",
    "        text = re.sub(\"^\\W+|\\W+$\", \"\", text, flags=re.UNICODE)\n",
    "        words = re.split(\"\\W*\\s+\\W*\", text, flags=re.UNICODE)\n",
    "        return [word.lower() for word in words]\n",
    "    except ValueError as e:\n",
    "        return []"
   ]
  },
  {
   "cell_type": "code",
   "execution_count": 4,
   "metadata": {},
   "outputs": [],
   "source": [
    "def removeStopWords(words):\n",
    "    return [word for word in words if word not in stopWords.value]\n",
    "\n",
    "def pairs(words):\n",
    "    out = []\n",
    "    for w1, w2 in zip(words, words[1:]):\n",
    "        out.append((w1.lower() + \"_\" + w2.lower(), 1))\n",
    "    return out"
   ]
  },
  {
   "cell_type": "code",
   "execution_count": 5,
   "metadata": {},
   "outputs": [],
   "source": [
    "def calculateNPMI(pair):\n",
    "    pair, count = pair\n",
    "    word1, word2 = pair.split(\"_\")\n",
    "    w1_count = words_count_map.value[word1]\n",
    "    w2_count = words_count_map.value[word2]\n",
    "    \n",
    "    pairProbability = float(count) / totalNumberPairs.value\n",
    "    w1Probability = float(w1_count) / totalNumberOfWords.value\n",
    "    w2Probability = float(w2_count) / totalNumberOfWords.value\n",
    "    \n",
    "    PMI = math.log(pairProbability / (w1Probability * w2Probability))\n",
    "    NPMI = PMI / (-1 * math.log(pairProbability))\n",
    "    return (pair, NPMI)"
   ]
  },
  {
   "cell_type": "code",
   "execution_count": 6,
   "metadata": {},
   "outputs": [],
   "source": [
    "wordsByArticle = (sc.textFile(wikiArticlesAddress, 16)\n",
    "                    .map(parse_article)  \n",
    "                    .map(removeStopWords)\n",
    "                   ).cache()"
   ]
  },
  {
   "cell_type": "code",
   "execution_count": 7,
   "metadata": {},
   "outputs": [],
   "source": [
    "allPairs = (wordsByArticle.flatMap(pairs)\n",
    "                          .reduceByKey(lambda a, b: a + b)\n",
    "                         ).cache()"
   ]
  },
  {
   "cell_type": "code",
   "execution_count": null,
   "metadata": {},
   "outputs": [],
   "source": [
    "totalNumberPairs = allPairs.map(lambda pair: pair[1]).sum()\n",
    "totalNumberPairs = sc.broadcast(totalNumberPairs)"
   ]
  },
  {
   "cell_type": "code",
   "execution_count": 10,
   "metadata": {},
   "outputs": [],
   "source": [
    "totalWords = (wordsByArticle.flatMap(lambda article : [(word, 1) for word in article])\n",
    "                            .reduceByKey(lambda a, b: a + b)\n",
    "                           ).cache()"
   ]
  },
  {
   "cell_type": "code",
   "execution_count": 11,
   "metadata": {},
   "outputs": [],
   "source": [
    "totalNumberOfWords = totalWords.map(lambda value: value[1]).sum()\n",
    "totalNumberOfWords = sc.broadcast(totalNumberOfWords)"
   ]
  },
  {
   "cell_type": "code",
   "execution_count": 18,
   "metadata": {},
   "outputs": [],
   "source": [
    "words_count_map = totalWords.collectAsMap()\n",
    "words_count_map = sc.broadcast(words_count_map)"
   ]
  },
  {
   "cell_type": "code",
   "execution_count": null,
   "metadata": {},
   "outputs": [],
   "source": [
    "allPairsNPMI = (allPairs.filter(lambda pair: pair[1] > minOccurrences)\n",
    "                        .map(calculateNPMI)\n",
    "                        .sortBy(lambda value: value[1], ascending=False)\n",
    "                       ).cache()"
   ]
  },
  {
   "cell_type": "code",
   "execution_count": 12,
   "metadata": {},
   "outputs": [
    {
     "name": "stdout",
     "output_type": "stream",
     "text": [
      "los_angeles\n",
      "external_links\n",
      "united_states\n",
      "prime_minister\n",
      "san_francisco\n",
      "et_al\n",
      "new_york\n",
      "supreme_court\n",
      "19th_century\n",
      "20th_century\n",
      "references_external\n",
      "soviet_union\n",
      "air_force\n",
      "baseball_player\n",
      "university_press\n",
      "roman_catholic\n",
      "united_kingdom\n",
      "references_reading\n",
      "notes_references\n",
      "award_best\n",
      "north_america\n",
      "new_zealand\n",
      "civil_war\n",
      "catholic_church\n",
      "world_war\n",
      "war_ii\n",
      "south_africa\n",
      "took_place\n",
      "roman_empire\n",
      "united_nations\n",
      "american_singer-songwriter\n",
      "high_school\n",
      "american_actor\n",
      "american_actress\n",
      "american_baseball\n",
      "york_city\n",
      "american_football\n",
      "years_later\n",
      "north_american\n"
     ]
    }
   ],
   "source": [
    "for pair, value in allPairsNPMI.take(39):\n",
    "    print(pair)"
   ]
  },
  {
   "cell_type": "code",
   "execution_count": null,
   "metadata": {},
   "outputs": [],
   "source": []
  }
 ],
 "metadata": {
  "kernelspec": {
   "display_name": "Python 2",
   "language": "python",
   "name": "python2"
  },
  "language_info": {
   "codemirror_mode": {
    "name": "ipython",
    "version": 2
   },
   "file_extension": ".py",
   "mimetype": "text/x-python",
   "name": "python",
   "nbconvert_exporter": "python",
   "pygments_lexer": "ipython2",
   "version": "2.7.12"
  }
 },
 "nbformat": 4,
 "nbformat_minor": 2
}
