{
 "cells": [
  {
   "cell_type": "markdown",
   "metadata": {},
   "source": [
    "# Hadoop Streaming Name Count"
   ]
  },
  {
   "cell_type": "markdown",
   "metadata": {},
   "source": [
    "Make WordCount program for all the names in the dataset. Name is a word with the following properties:\n",
    "\n",
    "1. The first character is not a digit (other characters can be digits).\n",
    "2. The first character is uppercase, all the other characters that are letters are lowercase.\n",
    "3. There are less than 0.5% occurrences of this word, when this word regardless to its case appears in the dataset and the condition (2) is not met.\n",
    "\n",
    "    \n",
    "Docker container: https://hub.docker.com/r/bigdatateam/yarn-notebook/  "
   ]
  },
  {
   "cell_type": "markdown",
   "metadata": {},
   "source": [
    "# Mapper 1"
   ]
  },
  {
   "cell_type": "code",
   "execution_count": 2,
   "metadata": {},
   "outputs": [
    {
     "name": "stdout",
     "output_type": "stream",
     "text": [
      "Writing mapper1.py\n"
     ]
    }
   ],
   "source": [
    "%%writefile mapper1.py\n",
    "\n",
    "import sys\n",
    "import re\n",
    "\n",
    "for line in sys.stdin:\n",
    "\n",
    "    article_id, text = line.strip().split('\\t', 1)\n",
    "    try:\n",
    "        words = re.split('\\W*\\s+\\W*', text.strip())\n",
    "        for word in words:            \n",
    "            if word[0].isalpha():\n",
    "                print(word.lower(), 1, int(word[0].isupper() and word[1:].islower()), sep=\"\\t\")            \n",
    "    except Exception as e:\n",
    "        continue"
   ]
  },
  {
   "cell_type": "markdown",
   "metadata": {},
   "source": [
    "# Reducer 1"
   ]
  },
  {
   "cell_type": "code",
   "execution_count": 22,
   "metadata": {},
   "outputs": [
    {
     "name": "stdout",
     "output_type": "stream",
     "text": [
      "Overwriting reducer1.py\n"
     ]
    }
   ],
   "source": [
    "%%writefile reducer1.py\n",
    "\n",
    "import sys\n",
    "\n",
    "current_key = None\n",
    "word_total = 0\n",
    "name_total = 0\n",
    "\n",
    "for line in sys.stdin:\n",
    "    try:\n",
    "        key, word_count, name_count = line.strip().split('\\t', 2)\n",
    "        word_count = int(word_count)\n",
    "        name_count = int(name_count)        \n",
    "        if current_key != key:\n",
    "            if current_key:\n",
    "                print(name_total, word_total, current_key, sep=\"\\t\")                \n",
    "            current_key = key\n",
    "            word_total = word_count\n",
    "            name_total = name_count\n",
    "        else:            \n",
    "            word_total += word_count\n",
    "            name_total += name_count\n",
    "        \n",
    "    except Exception as e:\n",
    "        continue  \n",
    "\n",
    "if current_key:\n",
    "    print(name_total, word_total, current_key, sep=\"\\t\")"
   ]
  },
  {
   "cell_type": "markdown",
   "metadata": {},
   "source": [
    "# Maper 2"
   ]
  },
  {
   "cell_type": "code",
   "execution_count": 24,
   "metadata": {},
   "outputs": [
    {
     "name": "stdout",
     "output_type": "stream",
     "text": [
      "Overwriting mapper2.py\n"
     ]
    }
   ],
   "source": [
    "%%writefile mapper2.py\n",
    "\n",
    "import sys\n",
    "\n",
    "for line in sys.stdin:\n",
    "    try:     \n",
    "        print(line.strip())        \n",
    "    except ValueError as e:\n",
    "        continue    "
   ]
  },
  {
   "cell_type": "markdown",
   "metadata": {},
   "source": [
    "# Reducer 2"
   ]
  },
  {
   "cell_type": "code",
   "execution_count": 25,
   "metadata": {},
   "outputs": [
    {
     "name": "stdout",
     "output_type": "stream",
     "text": [
      "Overwriting reducer2.py\n"
     ]
    }
   ],
   "source": [
    "%%writefile reducer2.py\n",
    "\n",
    "import sys\n",
    "\n",
    "total_count = 0\n",
    "total_caps = 0\n",
    "current_word = None\n",
    "\n",
    "for line in sys.stdin:\n",
    "    try:\n",
    "        caps_count, count, key = line.strip().split('\\t', 2)\n",
    "        count = int(count)\n",
    "        caps_count = int(caps_count)\n",
    "        \n",
    "        if key != current_word:\n",
    "            \n",
    "            if current_word and float(total_caps) / float(total_count) >= 0.995: \n",
    "                print(current_word, total_caps, sep=\"\\t\")\n",
    "            \n",
    "            total_count = 0\n",
    "            total_caps = 0\n",
    "            current_word = key\n",
    "\n",
    "\n",
    "        total_caps += caps_count\n",
    "        total_count += count\n",
    "\n",
    "    except Exception as e:\n",
    "        continue\n",
    "        \n",
    "if current_word and float(total_caps) / float(total_count) >= 0.995: \n",
    "    print(current_word, total_caps, sep=\"\\t\")   "
   ]
  },
  {
   "cell_type": "markdown",
   "metadata": {},
   "source": [
    "# Bash"
   ]
  },
  {
   "cell_type": "code",
   "execution_count": 1,
   "metadata": {},
   "outputs": [
    {
     "name": "stdout",
     "output_type": "stream",
     "text": [
      "Couldn't find program: 'bash'\n"
     ]
    }
   ],
   "source": [
    "%%bash\n",
    "\n",
    "OUT_DIR_1=\"part_1_\"$(date +\"%s%6N\")\n",
    "OUT_DIR_2=\"part_2_\"$(date +\"%s%6N\")\n",
    "\n",
    "hdfs dfs -rm -r -skipTrash ${OUT_DIR_1}* > /dev/null\n",
    "hdfs dfs -rm -r -skipTrash ${OUT_DIR_2}* > /dev/null\n",
    "\n",
    "\n",
    "yarn jar /opt/cloudera/parcels/CDH/lib/hadoop-mapreduce/hadoop-streaming.jar \\\n",
    "    -files mapper1.py,reducer1.py \\\n",
    "    -mapper 'python3 mapper1.py' \\\n",
    "    -reducer 'python3 reducer1.py' \\\n",
    "    -numReduceTasks 6 \\\n",
    "    -input /data/wiki/en_articles_part \\\n",
    "    -output ${OUT_DIR_1} > /dev/null\n",
    "\n",
    "\n",
    "yarn jar /opt/cloudera/parcels/CDH/lib/hadoop-mapreduce/hadoop-streaming.jar \\\n",
    "    -D mapreduce.job.output.key.comparator.class=org.apache.hadoop.mapreduce.lib.partition.KeyFieldBasedComparator \\\n",
    "    -D mapreduce.partition.keycomparator.options=\"-k1,3nr\" \\\n",
    "    -files mapper2.py,reducer2.py \\\n",
    "    -mapper 'python3 mapper2.py' \\\n",
    "    -reducer 'python3 reducer2.py' \\\n",
    "    -numReduceTasks 1 \\\n",
    "    -input ${OUT_DIR_1} \\\n",
    "    -output ${OUT_DIR_2} > /dev/null\n",
    "\n",
    "\n",
    "hdfs dfs -cat ${OUT_DIR_2}/part-00000 | sed -n \"5p;8q\""
   ]
  },
  {
   "cell_type": "code",
   "execution_count": null,
   "metadata": {},
   "outputs": [],
   "source": []
  }
 ],
 "metadata": {
  "kernelspec": {
   "display_name": "Python 3",
   "language": "python",
   "name": "python3"
  },
  "language_info": {
   "codemirror_mode": {
    "name": "ipython",
    "version": 3
   },
   "file_extension": ".py",
   "mimetype": "text/x-python",
   "name": "python",
   "nbconvert_exporter": "python",
   "pygments_lexer": "ipython3",
   "version": "3.5.6"
  }
 },
 "nbformat": 4,
 "nbformat_minor": 2
}
