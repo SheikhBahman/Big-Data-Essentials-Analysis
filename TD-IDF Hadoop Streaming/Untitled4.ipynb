{
 "cells": [
  {
   "cell_type": "code",
   "execution_count": 4,
   "metadata": {},
   "outputs": [
    {
     "name": "stdout",
     "output_type": "stream",
     "text": [
      "Overwriting mapper.py\n"
     ]
    }
   ],
   "source": [
    "%%writefile mapper.py\n",
    "\n",
    "from __future__ import division\n",
    "import sys\n",
    "import re\n",
    "from collections import Counter\n",
    "\n",
    "reload(sys)\n",
    "sys.setdefaultencoding('utf-8') # required to convert to unicode\n",
    "\n",
    "with open('stop_words_en.txt') as f:\n",
    "    stop_words = set(f.read().split())\n",
    "\n",
    "for line in sys.stdin:\n",
    "    \n",
    "    try:\n",
    "        article_id, text = unicode(line.strip()).split('\\t', 1)\n",
    "        article_id = int(article_id)\n",
    "    except ValueError as e:\n",
    "        continue\n",
    "        \n",
    "    words = re.split(\"\\W*\\s+\\W*\", text, flags=re.UNICODE)\n",
    "    words = [x.lower() for x in words if x.lower() not in stop_words]\n",
    "    words_count = Counter(words)\n",
    "    N = len(words)\n",
    "    \n",
    "    for word, count in words_count.items():\n",
    "        tf = count / N\n",
    "        print \"%s\\t%d\\t%f\" % (word, article_id, tf)"
   ]
  },
  {
   "cell_type": "code",
   "execution_count": 5,
   "metadata": {},
   "outputs": [
    {
     "name": "stdout",
     "output_type": "stream",
     "text": [
      "Overwriting reducer.py\n"
     ]
    }
   ],
   "source": [
    "%%writefile reducer.py\n",
    "\n",
    "from __future__ import division\n",
    "import sys\n",
    "from math import log\n",
    "\n",
    "cur_word = None\n",
    "\n",
    "for line in sys.stdin:\n",
    "    \n",
    "    try:\n",
    "        word, article_id, tf = line.strip().split('\\t')\n",
    "        article_id, tf = int(article_id), float(tf)\n",
    "    except ValueError as e:\n",
    "        continue\n",
    "        \n",
    "    if cur_word != word:\n",
    "        if cur_word:\n",
    "            idf = 1 / log(1 + Dt)\n",
    "            \n",
    "            for a_id, a_tf in article_tf:\n",
    "                tfidf = a_tf * idf\n",
    "                print \"%s\\t%d\\t%f\" % (cur_word, a_id, tfidf)\n",
    "        \n",
    "        Dt = 0\n",
    "        article_tf = []\n",
    "        cur_word = word\n",
    "    \n",
    "    Dt += 1\n",
    "    article_tf.append((article_id, tf))\n",
    "    \n",
    "if cur_word:\n",
    "    idf = 1 / log(1 + Dt)\n",
    "    \n",
    "    for a_id, a_tf in article_tf:\n",
    "        tfidf = a_tf * idf\n",
    "        print \"%s\\t%d\\t%f\" % (cur_word, a_id, tfidf)"
   ]
  },
  {
   "cell_type": "code",
   "execution_count": 6,
   "metadata": {},
   "outputs": [
    {
     "name": "stdout",
     "output_type": "stream",
     "text": [
      "Couldn't find program: 'bash'\n"
     ]
    }
   ],
   "source": [
    "%%bash\n",
    "\n",
    "OUT_DIR=\"TFIDF_\"$(date +\"%s%6N\")\n",
    "NUM_REDUCERS=8\n",
    "\n",
    "hdfs dfs -rm -r -skipTrash ${OUT_DIR} > /dev/null\n",
    "\n",
    "yarn jar /opt/cloudera/parcels/CDH/lib/hadoop-mapreduce/hadoop-streaming.jar \\\n",
    "    -D mapred.jab.name=\"Streaming TF-IDF\" \\\n",
    "    -D mapreduce.job.reduces=${NUM_REDUCERS} \\\n",
    "    -files mapper.py,reducer.py,/datasets/stop_words_en.txt \\\n",
    "    -mapper \"python2 mapper.py\" \\\n",
    "    -reducer \"python2 reducer.py\" \\\n",
    "    -input /data/wiki/en_articles_part \\\n",
    "    -output ${OUT_DIR} > /dev/null\n",
    "\n",
    "hdfs dfs -cat ${OUT_DIR}/* | grep -P 'labor\\t12\\t' | cut -f3"
   ]
  },
  {
   "cell_type": "code",
   "execution_count": null,
   "metadata": {},
   "outputs": [],
   "source": []
  }
 ],
 "metadata": {
  "kernelspec": {
   "display_name": "Python 3",
   "language": "python",
   "name": "python3"
  },
  "language_info": {
   "codemirror_mode": {
    "name": "ipython",
    "version": 3
   },
   "file_extension": ".py",
   "mimetype": "text/x-python",
   "name": "python",
   "nbconvert_exporter": "python",
   "pygments_lexer": "ipython3",
   "version": "3.5.6"
  }
 },
 "nbformat": 4,
 "nbformat_minor": 2
}
