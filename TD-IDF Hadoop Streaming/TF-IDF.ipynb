{
 "cells": [
  {
   "cell_type": "code",
   "execution_count": 9,
   "metadata": {},
   "outputs": [
    {
     "name": "stdout",
     "output_type": "stream",
     "text": [
      "Overwriting mapper.py\n"
     ]
    }
   ],
   "source": [
    "%%writefile mapper.py\n",
    "\n",
    "import sys\n",
    "import re\n",
    "import collections\n",
    "\n",
    "with open('stop_words_en.txt') as f:\n",
    "    stop_words = f.read().split()\n",
    "\n",
    "for line in sys.stdin:\n",
    "    try:\n",
    "        article_id, text = line.strip().split('\\t', 1)\n",
    "        words = re.split(\"\\W*\\s+\\W*\", text, flags=re.UNICODE)\n",
    "        words = [word.lower() for word in words if (word.lower() not in stop_words)]\n",
    "        \n",
    "        words_counter = collections.Counter(words)\n",
    "        words_total = sum(words_counter.values())\n",
    "\n",
    "        for word, count in sorted(words_counter.items()):\n",
    "            if not word.isalpha(): continue\n",
    "            tf = float(count)/float(words_total)            \n",
    "            print(word, article_id, str(tf), sep=\"\\t\")\n",
    "             \n",
    "    except ValueError as e:        \n",
    "        continue"
   ]
  },
  {
   "cell_type": "code",
   "execution_count": 10,
   "metadata": {},
   "outputs": [
    {
     "name": "stdout",
     "output_type": "stream",
     "text": [
      "Overwriting reducer.py\n"
     ]
    }
   ],
   "source": [
    "%%writefile reducer.py\n",
    "\n",
    "import sys\n",
    "import math\n",
    "\n",
    "current_word = None\n",
    "articles = {}\n",
    "\n",
    "for line in sys.stdin:\n",
    "    try:\n",
    "        word, article_id, tf = line.strip().split('\\t', 2)      \n",
    "        if current_word != word:\n",
    "            if current_word:\n",
    "                idf = 1.0 / math.log(1 + len(articles))\n",
    "                for article, tf in articles.items():\n",
    "                    print(current_word, article, str(tf*idf), sep=\"\\t\")            \n",
    "            current_word = word\n",
    "            articles = {}\n",
    "        articles[article_id] = float(tf)    \n",
    "    except ValueError as e:\n",
    "        continue\n",
    "        \n",
    "if current_word:    \n",
    "    idf = 1.0 / math.log(1 + len(articles))\n",
    "    for article, tf in articles.items():\n",
    "        print(current_word, article, str(tf*idf), sep=\"\\t\")"
   ]
  },
  {
   "cell_type": "code",
   "execution_count": 13,
   "metadata": {},
   "outputs": [
    {
     "name": "stdout",
     "output_type": "stream",
     "text": [
      "Couldn't find program: 'bash'\n"
     ]
    }
   ],
   "source": [
    "%%bash\n",
    "HADOOP_STREAMING_JAR=\"/opt/cloudera/parcels/CDH/lib/hadoop-mapreduce/hadoop-streaming.jar\"\n",
    "OUT_DIR=\"TDIDF_\"$(date +\"%s%6N\")\n",
    "\n",
    "hdfs dfs -rm -r -skipTrash ${OUT_DIR} > /dev/null\n",
    "\n",
    "yarn jar $HADOOP_STREAMING_JAR \\\n",
    "    -D mapred.jab.name=\"TDIDF\" \\\n",
    "    -D mapreduce.job.reduces=4 \\\n",
    "    -D mapreduce.partition.keypartitioner.options=-k1,1 \\\n",
    "    -files mapper.py,reducer.py,/datasets/stop_words_en.txt \\\n",
    "    -mapper \"python3 mapper.py\" \\\n",
    "    -reducer \"python3 reducer.py\" \\\n",
    "    -numReduceTasks 4 \\\n",
    "    -partitioner org.apache.hadoop.mapred.lib.KeyFieldBasedPartitioner \\\n",
    "    -input /data/wiki/en_articles_part \\\n",
    "    -output ${OUT_DIR} > /dev/null \n",
    "\n",
    "hdfs dfs -cat ${OUT_DIR}/part* | grep -w \"labor\" | grep -w \"12\" | cut -f 3"
   ]
  },
  {
   "cell_type": "code",
   "execution_count": null,
   "metadata": {},
   "outputs": [],
   "source": []
  }
 ],
 "metadata": {
  "kernelspec": {
   "display_name": "Python 3",
   "language": "python",
   "name": "python3"
  },
  "language_info": {
   "codemirror_mode": {
    "name": "ipython",
    "version": 3
   },
   "file_extension": ".py",
   "mimetype": "text/x-python",
   "name": "python",
   "nbconvert_exporter": "python",
   "pygments_lexer": "ipython3",
   "version": "3.5.6"
  }
 },
 "nbformat": 4,
 "nbformat_minor": 2
}
