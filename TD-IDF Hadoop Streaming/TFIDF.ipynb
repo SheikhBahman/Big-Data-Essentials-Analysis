{
 "cells": [
  {
   "cell_type": "code",
   "execution_count": 1,
   "metadata": {},
   "outputs": [
    {
     "name": "stdout",
     "output_type": "stream",
     "text": [
      "Writing mapper1.py\n"
     ]
    }
   ],
   "source": [
    "%%writefile mapper1.py\n",
    "\n",
    "import sys\n",
    "import re\n",
    "\n",
    "reload(sys)\n",
    "sys.setdefaultencoding('utf-8')\n",
    "\n",
    "with open('stop_words_en.txt', \"r\") as f:\n",
    "    stop_words = set(f.read().splitlines())\n",
    "    \n",
    "for line in sys.stdin:\n",
    "    try:\n",
    "        article_id, text = unicode(line.strip()).split('\\t', 1)\n",
    "    except ValueError as e:\n",
    "        continue\n",
    "\n",
    "    text= re.sub(\"^\\W+|\\W+$\", \"\", text, flags=re.UNICODE)\n",
    "    text = re.split(\"\\W*\\s+\\W*\", text, flags=re.UNICODE)   \n",
    "    \n",
    "    counter = dict()\n",
    "    for w in text:\n",
    "        w = w.lower()\n",
    "        if w in stop_words:\n",
    "            continue\n",
    "            \n",
    "        if w in counter:\n",
    "            counter[w] += 1\n",
    "        else:\n",
    "            counter[w] = 1\n",
    "    \n",
    "    total = sum(counter.values())\n",
    "    for term, cnt in counter.iteritems():\n",
    "        print \"%s\\t%s\\t%f\" % (term, article_id, float(cnt)/total)"
   ]
  },
  {
   "cell_type": "code",
   "execution_count": 4,
   "metadata": {},
   "outputs": [
    {
     "name": "stdout",
     "output_type": "stream",
     "text": [
      "Writing reducer.py\n"
     ]
    }
   ],
   "source": [
    "%%writefile reducer.py\n",
    "\n",
    "import sys\n",
    "from math import log\n",
    "from imp import reload\n",
    "if sys.version[0] == '2':\n",
    "    reload(sys)\n",
    "    sys.setdefaultencoding(\"utf-8\") # required to convert to unicode\n",
    "\n",
    "articles_dict = dict()\n",
    "current_key = None\n",
    "\n",
    "for line in sys.stdin:\n",
    "    try:\n",
    "        key, article_id, tf = line.strip().split('\\t', 2)\n",
    "        tf = float(tf)\n",
    "\n",
    "        if current_key != key:\n",
    "            if current_key:\n",
    "                idf = (float(1)/log(1 + len(articles_dict.values())))\n",
    "                for key_article_id, tf in articles_dict.items():\n",
    "                    tf_idf = tf * idf\n",
    "                    print (\"%s\\t%s\\t%f\" % (current_key, key_article_id, tf_idf))\n",
    "\n",
    "            current_key = key\n",
    "            articles_dict = dict()\n",
    "\n",
    "        articles_dict[article_id] = float(tf)\n",
    "    \n",
    "    except Exception as e:\n",
    "        print(\"Error in reducer.py\", e)\n",
    "        continue\n",
    "    \n",
    "if current_key:\n",
    "    idf = (float(1)/log(1 + len(articles_dict.values())))\n",
    "    for key_article_id, tf in articles_dict.items():\n",
    "        tf_idf = tf * idf\n",
    "        print (\"%s\\t%s\\t%f\" % (current_key, key_article_id, tf_idf))"
   ]
  },
  {
   "cell_type": "code",
   "execution_count": 3,
   "metadata": {},
   "outputs": [
    {
     "name": "stdout",
     "output_type": "stream",
     "text": [
      "Couldn't find program: 'bash'\n"
     ]
    }
   ],
   "source": [
    "%%bash\n",
    "\n",
    "OUT_DIR=\"out_\"\n",
    "\n",
    "hdfs dfs -rm -r -skipTrash ${OUT_DIR} > /dev/null\n",
    "\n",
    "yarn jar /opt/cloudera/parcels/CDH/lib/hadoop-mapreduce/hadoop-streaming.jar \\\n",
    "    -D mapred.jab.name=\"Streaming TF-IDF\" \\\n",
    "    -D mapreduce.job.reduces=4 \\\n",
    "    -files mapper1.py,reducer.py,/datasets/stop_words_en.txt \\\n",
    "    -mapper \"python2 mapper1.py\" \\\n",
    "    -reducer \"python3 reducer.py\" \\\n",
    "    -input /data/wiki/en_articles_part \\\n",
    "    -output ${OUT_DIR} > /dev/null\n",
    "\n",
    "hdfs dfs -cat ${OUT_DIR}/* |  grep -P 'labor\\t12\\t' | cut -f3\n",
    "hdfs dfs -rm -r -skipTrash ${OUT_DIR} > /dev/null"
   ]
  },
  {
   "cell_type": "code",
   "execution_count": null,
   "metadata": {},
   "outputs": [],
   "source": []
  }
 ],
 "metadata": {
  "kernelspec": {
   "display_name": "Python 3",
   "language": "python",
   "name": "python3"
  },
  "language_info": {
   "codemirror_mode": {
    "name": "ipython",
    "version": 3
   },
   "file_extension": ".py",
   "mimetype": "text/x-python",
   "name": "python",
   "nbconvert_exporter": "python",
   "pygments_lexer": "ipython3",
   "version": "3.5.6"
  }
 },
 "nbformat": 4,
 "nbformat_minor": 2
}
